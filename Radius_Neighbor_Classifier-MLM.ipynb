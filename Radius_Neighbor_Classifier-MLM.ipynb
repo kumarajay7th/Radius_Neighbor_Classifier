{
 "cells": [
  {
   "cell_type": "markdown",
   "metadata": {},
   "source": [
    "# Reference: Machine Learning Mastery\n",
    "https://machinelearningmastery.com/radius-neighbors-classifier-algorithm-with-python/"
   ]
  },
  {
   "cell_type": "markdown",
   "metadata": {},
   "source": [
    "## Radius Neighbour Classifier : based on k-NN machine learning algorithm\n",
    "you will know:\n",
    "\n",
    "- The Nearest Radius Neighbors Classifier is a simple extension of the k-nearest neighbors classification algorithm.\n",
    "- How to fit, evaluate, and make predictions with the Radius Neighbors Classifier model with Scikit-Learn.\n",
    "- How to tune the hyperparameters of the Radius Neighbors Classifier algorithm on a given dataset."
   ]
  },
  {
   "cell_type": "markdown",
   "metadata": {},
   "source": [
    "## Tutorial Overview\n",
    "This tutorial is divided into three parts; they are:\n",
    "\n",
    "- Radius Neighbors Classifier\n",
    "- Radius Neighbors Classifier With Scikit-Learn\n",
    "- Tune Radius Neighbors Classifier Hyperparameters\n",
    "\n",
    "a dataset with 1,000 examples, each with 20 input variables using default function  <b>make_classification()</b> function in scikit_learn library"
   ]
  },
  {
   "cell_type": "code",
   "execution_count": 3,
   "metadata": {},
   "outputs": [
    {
     "name": "stdout",
     "output_type": "stream",
     "text": [
      "Mean Accuracy: 0.754 (0.042)\n"
     ]
    }
   ],
   "source": [
    "# evaluate an radius neighbors classifier model on the dataset\n",
    "from numpy import mean\n",
    "from numpy import std\n",
    "from sklearn.datasets import make_classification\n",
    "from sklearn.model_selection import cross_val_score\n",
    "from sklearn.model_selection import RepeatedStratifiedKFold\n",
    "from sklearn.pipeline import Pipeline\n",
    "from sklearn.preprocessing import MinMaxScaler\n",
    "from sklearn.neighbors import RadiusNeighborsClassifier\n",
    "# define dataset\n",
    "X, y = make_classification(n_samples=1000, n_features=20, n_informative=15, n_redundant=5, random_state=1)\n",
    "# define model\n",
    "model = RadiusNeighborsClassifier()\n",
    "# create pipeline\n",
    "pipeline = Pipeline(steps=[('norm', MinMaxScaler()),('model',model)])\n",
    "# define model evaluation method\n",
    "cv = RepeatedStratifiedKFold(n_splits=10, n_repeats=3, random_state=1)\n",
    "# evaluate model\n",
    "scores = cross_val_score(pipeline, X, y, scoring='accuracy', cv=cv, n_jobs=-1)\n",
    "# summarize result\n",
    "print('Mean Accuracy: %.3f (%.3f)' % (mean(scores), std(scores)))"
   ]
  },
  {
   "cell_type": "markdown",
   "metadata": {},
   "source": [
    "## Tune Radius Neighbors Classifier Hyperparameters\n",
    "The hyperparameters for the Radius Neighbors Classifier method must be configured for your specific dataset.\n",
    "\n",
    "Perhaps the most important hyperparameter is the radius controlled via the “radius” argument. It is a good idea to test a range of values, perhaps around the value of 1.0."
   ]
  },
  {
   "cell_type": "code",
   "execution_count": 4,
   "metadata": {},
   "outputs": [
    {
     "name": "stdout",
     "output_type": "stream",
     "text": [
      "Mean Accuracy: 0.872\n",
      "Config: {'model__radius': 0.8}\n"
     ]
    }
   ],
   "source": [
    "# grid search radius for radius neighbors classifier\n",
    "from numpy import arange\n",
    "from sklearn.datasets import make_classification\n",
    "from sklearn.model_selection import GridSearchCV\n",
    "from sklearn.model_selection import RepeatedStratifiedKFold\n",
    "from sklearn.pipeline import Pipeline\n",
    "from sklearn.preprocessing import MinMaxScaler\n",
    "from sklearn.neighbors import RadiusNeighborsClassifier\n",
    "# define dataset\n",
    "X, y = make_classification(n_samples=1000, n_features=20, n_informative=15, n_redundant=5, random_state=1)\n",
    "# define model\n",
    "model = RadiusNeighborsClassifier()\n",
    "# create pipeline\n",
    "pipeline = Pipeline(steps=[('norm', MinMaxScaler()),('model',model)])\n",
    "# define model evaluation method\n",
    "cv = RepeatedStratifiedKFold(n_splits=10, n_repeats=3, random_state=1)\n",
    "# define grid\n",
    "grid = dict()\n",
    "grid['model__radius'] = arange(0.8, 1.5, 0.01)\n",
    "# define search\n",
    "search = GridSearchCV(pipeline, grid, scoring='accuracy', cv=cv, n_jobs=-1)\n",
    "# perform the search\n",
    "results = search.fit(X, y)\n",
    "# summarize\n",
    "print('Mean Accuracy: %.3f' % results.best_score_)\n",
    "print('Config: %s' % results.best_params_)"
   ]
  },
  {
   "cell_type": "markdown",
   "metadata": {},
   "source": [
    "### Another key hyperparameter is the manner in which examples in the radius contribute to the prediction via the “weights” argument. This can be set to “uniform” (the default), “distance” for inverse distance, or a custom function.\n",
    "\n",
    "We can test both of these built-in weightings and see which performs better with our radius of 0.8."
   ]
  },
  {
   "cell_type": "code",
   "execution_count": 5,
   "metadata": {},
   "outputs": [
    {
     "name": "stdout",
     "output_type": "stream",
     "text": [
      "Mean Accuracy: 0.893\n",
      "Config: {'model__weights': 'distance'}\n"
     ]
    }
   ],
   "source": [
    "# grid search weights for radius neighbors classifier\n",
    "from sklearn.datasets import make_classification\n",
    "from sklearn.model_selection import GridSearchCV\n",
    "from sklearn.model_selection import RepeatedStratifiedKFold\n",
    "from sklearn.pipeline import Pipeline\n",
    "from sklearn.preprocessing import MinMaxScaler\n",
    "from sklearn.neighbors import RadiusNeighborsClassifier\n",
    "# define dataset\n",
    "X, y = make_classification(n_samples=1000, n_features=20, n_informative=15, n_redundant=5, random_state=1)\n",
    "# define model\n",
    "model = RadiusNeighborsClassifier(radius=0.8)\n",
    "# create pipeline\n",
    "pipeline = Pipeline(steps=[('norm', MinMaxScaler()),('model',model)])\n",
    "# define model evaluation method\n",
    "cv = RepeatedStratifiedKFold(n_splits=10, n_repeats=3, random_state=1)\n",
    "# define grid\n",
    "grid = dict()\n",
    "grid['model__weights'] = ['uniform', 'distance']\n",
    "# define search\n",
    "search = GridSearchCV(pipeline, grid, scoring='accuracy', cv=cv, n_jobs=-1)\n",
    "# perform the search\n",
    "results = search.fit(X, y)\n",
    "# summarize\n",
    "print('Mean Accuracy: %.3f' % results.best_score_)\n",
    "print('Config: %s' % results.best_params_)"
   ]
  },
  {
   "cell_type": "code",
   "execution_count": null,
   "metadata": {},
   "outputs": [],
   "source": []
  }
 ],
 "metadata": {
  "kernelspec": {
   "display_name": "Python 3",
   "language": "python",
   "name": "python3"
  },
  "language_info": {
   "codemirror_mode": {
    "name": "ipython",
    "version": 3
   },
   "file_extension": ".py",
   "mimetype": "text/x-python",
   "name": "python",
   "nbconvert_exporter": "python",
   "pygments_lexer": "ipython3",
   "version": "3.8.3"
  }
 },
 "nbformat": 4,
 "nbformat_minor": 4
}
